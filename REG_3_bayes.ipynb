{
 "cells": [
  {
   "cell_type": "markdown",
   "metadata": {},
   "source": [
    "3 Bayesian method\n",
    "-------------------\n",
    "\n",
    "Given all the **uncertainties** in model choices along with the **regularizers**, you might already be wondering how to quantify such **uncertainties** while searching for the exact model form or the exact values of model parameters **θ**. Well, training models to fit data regarding the OLS does fall into the scope of **probabilistic estimation** of model parameters **θ** -- minimizing the OLS conforms to maximizing the **likelihood** of **θ** given the data evidence.\n",
    "\n",
    "Apart from working with the **likelihood** of **θ** by maximizing it, the **Bayesian method** suggest we also have prior knowledge about **θ** before seeing the data. In fact, **regularization** stems from **Bayesian method**, which imposes a **prior distribution** upon model parameters while fitting to data. Essentially, fitting a **regularized** model is equivalent to maximize the probability distribution in the weight space along with a **regularized** or **prior distribution**.\n",
    "\n",
    "In this section, you are not going to work with codes but to extend your knowledge regarding regression from a **point estimation** perspective to a **probabilistic distribution** perspective, where **θ** is more than just exact values but follows probabilistic distributions, and so does the model."
   ]
  },
  {
   "cell_type": "markdown",
   "metadata": {},
   "source": [
    "### Short exercise 3.0\n",
    "\n",
    "This is an extra reading material prepared for intuitive understanding of the **Bayesian** linear regression. The material is prepared with many animated figures to avoid tedious equations and algorithms.\n",
    "\n",
    "Please visit external link [**Bayesian Linear Regression Animated**](https://github.com/jonwangio/Bayes_for_Regression)"
   ]
  },
  {
   "cell_type": "code",
   "execution_count": null,
   "metadata": {},
   "outputs": [],
   "source": []
  },
  {
   "cell_type": "code",
   "execution_count": null,
   "metadata": {},
   "outputs": [],
   "source": []
  }
 ],
 "metadata": {
  "kernelspec": {
   "display_name": "Python 3",
   "language": "python",
   "name": "python3"
  },
  "language_info": {
   "codemirror_mode": {
    "name": "ipython",
    "version": 3
   },
   "file_extension": ".py",
   "mimetype": "text/x-python",
   "name": "python",
   "nbconvert_exporter": "python",
   "pygments_lexer": "ipython3",
   "version": "3.7.3"
  }
 },
 "nbformat": 4,
 "nbformat_minor": 2
}
