{
 "cells": [
  {
   "cell_type": "markdown",
   "metadata": {},
   "source": [
    "5 Regression on real dataset: air pollution mapping\n",
    "-------------------\n",
    "\n",
    "The power of *machine learning* for **regression** can only be manifested by its application to real dataset. For instance, you will never know why the **Random Forest** is such a popular algorithm and how it outperforms the other approaches.\n",
    "\n",
    "In this challenge, you are going to work with GIS point dataset, where air pollutant NO<sub>2</sub> and some potential predictors (indicators) are provided. While acquiring point measurement of NO<sub>2</sub> at each station, indicators such as road length and population size within a buffer of the station is also obtained. Specifically you will have weekday daytime and nighttime NO<sub>2</sub> point measurements at several stations (point). Road length and population size around each station (point) is indicated with the buffer size. For instance, 'populaiton_3000m' means population size within the 3000m buffer zone around each stations (point).\n",
    "\n",
    "You will work with famous 'pandas' module to handle table based dataset. You will also try to learn how to study the functionality of the module by exploring online open source documentation.\n",
    "\n"
   ]
  },
  {
   "cell_type": "code",
   "execution_count": 229,
   "metadata": {},
   "outputs": [
    {
     "name": "stderr",
     "output_type": "stream",
     "text": [
      "UsageError: unrecognized arguments: # Again, we need to inform this notebook to plot figures in lines, you can ignore this code\n"
     ]
    }
   ],
   "source": [
    "%matplotlib inline  # Again, we need to inform this notebook to plot figures in lines, you can ignore this code"
   ]
  },
  {
   "cell_type": "markdown",
   "metadata": {},
   "source": [
    "### 5.0 Data and preprocessing"
   ]
  },
  {
   "cell_type": "code",
   "execution_count": 230,
   "metadata": {},
   "outputs": [
    {
     "data": {
      "text/html": [
       "<div>\n",
       "<style scoped>\n",
       "    .dataframe tbody tr th:only-of-type {\n",
       "        vertical-align: middle;\n",
       "    }\n",
       "\n",
       "    .dataframe tbody tr th {\n",
       "        vertical-align: top;\n",
       "    }\n",
       "\n",
       "    .dataframe thead th {\n",
       "        text-align: right;\n",
       "    }\n",
       "</style>\n",
       "<table border=\"1\" class=\"dataframe\">\n",
       "  <thead>\n",
       "    <tr style=\"text-align: right;\">\n",
       "      <th></th>\n",
       "      <th>Point</th>\n",
       "      <th>Longitude</th>\n",
       "      <th>Latitude</th>\n",
       "      <th>weekday_daytime_no2</th>\n",
       "      <th>weekday_nighttime_no2</th>\n",
       "      <th>population_1000m</th>\n",
       "      <th>population_3000m</th>\n",
       "      <th>population_5000m</th>\n",
       "      <th>roadlength_1000m</th>\n",
       "      <th>roadlength_3000m</th>\n",
       "      <th>roadlength_5000m</th>\n",
       "    </tr>\n",
       "  </thead>\n",
       "  <tbody>\n",
       "    <tr>\n",
       "      <th>0</th>\n",
       "      <td>1</td>\n",
       "      <td>3.749458</td>\n",
       "      <td>51.295278</td>\n",
       "      <td>15.486447</td>\n",
       "      <td>16.807046</td>\n",
       "      <td>440.064819</td>\n",
       "      <td>3312.588867</td>\n",
       "      <td>8206.84375</td>\n",
       "      <td>0.00000</td>\n",
       "      <td>28314.40625</td>\n",
       "      <td>60863.47656</td>\n",
       "    </tr>\n",
       "    <tr>\n",
       "      <th>1</th>\n",
       "      <td>2</td>\n",
       "      <td>3.916947</td>\n",
       "      <td>51.635556</td>\n",
       "      <td>14.697327</td>\n",
       "      <td>16.898273</td>\n",
       "      <td>492.458710</td>\n",
       "      <td>3886.029297</td>\n",
       "      <td>5170.12207</td>\n",
       "      <td>5352.03125</td>\n",
       "      <td>62689.73828</td>\n",
       "      <td>75216.85156</td>\n",
       "    </tr>\n",
       "    <tr>\n",
       "      <th>2</th>\n",
       "      <td>3</td>\n",
       "      <td>4.121389</td>\n",
       "      <td>51.978056</td>\n",
       "      <td>28.577064</td>\n",
       "      <td>30.600098</td>\n",
       "      <td>3102.089111</td>\n",
       "      <td>23252.750000</td>\n",
       "      <td>61342.87891</td>\n",
       "      <td>12614.07422</td>\n",
       "      <td>38824.15234</td>\n",
       "      <td>77248.41406</td>\n",
       "    </tr>\n",
       "    <tr>\n",
       "      <th>3</th>\n",
       "      <td>4</td>\n",
       "      <td>4.227778</td>\n",
       "      <td>51.931944</td>\n",
       "      <td>31.335268</td>\n",
       "      <td>33.090708</td>\n",
       "      <td>6142.983398</td>\n",
       "      <td>36911.640630</td>\n",
       "      <td>79492.71094</td>\n",
       "      <td>13942.57422</td>\n",
       "      <td>82291.88281</td>\n",
       "      <td>164851.23440</td>\n",
       "    </tr>\n",
       "    <tr>\n",
       "      <th>4</th>\n",
       "      <td>5</td>\n",
       "      <td>4.289172</td>\n",
       "      <td>52.078056</td>\n",
       "      <td>23.677740</td>\n",
       "      <td>26.016235</td>\n",
       "      <td>19552.472660</td>\n",
       "      <td>152638.750000</td>\n",
       "      <td>322745.00000</td>\n",
       "      <td>60375.49609</td>\n",
       "      <td>440915.18750</td>\n",
       "      <td>903282.81250</td>\n",
       "    </tr>\n",
       "  </tbody>\n",
       "</table>\n",
       "</div>"
      ],
      "text/plain": [
       "   Point  Longitude   Latitude  weekday_daytime_no2  weekday_nighttime_no2  \\\n",
       "0      1   3.749458  51.295278            15.486447              16.807046   \n",
       "1      2   3.916947  51.635556            14.697327              16.898273   \n",
       "2      3   4.121389  51.978056            28.577064              30.600098   \n",
       "3      4   4.227778  51.931944            31.335268              33.090708   \n",
       "4      5   4.289172  52.078056            23.677740              26.016235   \n",
       "\n",
       "   population_1000m  population_3000m  population_5000m  roadlength_1000m  \\\n",
       "0        440.064819       3312.588867        8206.84375           0.00000   \n",
       "1        492.458710       3886.029297        5170.12207        5352.03125   \n",
       "2       3102.089111      23252.750000       61342.87891       12614.07422   \n",
       "3       6142.983398      36911.640630       79492.71094       13942.57422   \n",
       "4      19552.472660     152638.750000      322745.00000       60375.49609   \n",
       "\n",
       "   roadlength_3000m  roadlength_5000m  \n",
       "0       28314.40625       60863.47656  \n",
       "1       62689.73828       75216.85156  \n",
       "2       38824.15234       77248.41406  \n",
       "3       82291.88281      164851.23440  \n",
       "4      440915.18750      903282.81250  "
      ]
     },
     "execution_count": 230,
     "metadata": {},
     "output_type": "execute_result"
    }
   ],
   "source": [
    "# The first thing you need to do is to import the 'pandas' module\n",
    "\n",
    "import pandas as pd\n",
    "\n",
    "# You can be able to read *.csv based GIS point dataset by using 'pandas'\n",
    "data_all = pd.read_csv('data/no2.csv')  # 'Programming-Basics/data/no2.csv'\n",
    "# Print(data_no2)\n",
    "data_all.head(5)  # What does this mean?"
   ]
  },
  {
   "cell_type": "code",
   "execution_count": 231,
   "metadata": {},
   "outputs": [
    {
     "data": {
      "text/plain": [
       "Index(['Point', 'Longitude', 'Latitude', 'weekday_daytime_no2',\n",
       "       'weekday_nighttime_no2', 'population_1000m', 'population_3000m',\n",
       "       'population_5000m', 'roadlength_1000m', 'roadlength_3000m',\n",
       "       'roadlength_5000m'],\n",
       "      dtype='object')"
      ]
     },
     "execution_count": 231,
     "metadata": {},
     "output_type": "execute_result"
    }
   ],
   "source": [
    "# Pandas dataframe allows to only show the variable names or the names of the columns\n",
    "data_all.columns"
   ]
  },
  {
   "cell_type": "code",
   "execution_count": 232,
   "metadata": {},
   "outputs": [
    {
     "name": "stdout",
     "output_type": "stream",
     "text": [
      "(482,)\n"
     ]
    }
   ],
   "source": [
    "# Extract the daytime NO2 data as a column\n",
    "# Try to figure out what does the data type mean?\n",
    "\n",
    "daytime_no2 = data_all['weekday_daytime_no2']\n",
    "\n",
    "# You can further extract the values of the pandas column as Numpy array. Handy!\n",
    "\n",
    "no2_val = daytime_no2.values\n",
    "print(no2_val.shape)"
   ]
  },
  {
   "cell_type": "code",
   "execution_count": 233,
   "metadata": {},
   "outputs": [
    {
     "name": "stdout",
     "output_type": "stream",
     "text": [
      "[[4.40064819e+02 3.31258887e+03 8.20684375e+03 0.00000000e+00\n",
      "  2.83144062e+04 6.08634766e+04]\n",
      " [4.92458710e+02 3.88602930e+03 5.17012207e+03 5.35203125e+03\n",
      "  6.26897383e+04 7.52168516e+04]\n",
      " [3.10208911e+03 2.32527500e+04 6.13428789e+04 1.26140742e+04\n",
      "  3.88241523e+04 7.72484141e+04]\n",
      " [6.14298340e+03 3.69116406e+04 7.94927109e+04 1.39425742e+04\n",
      "  8.22918828e+04 1.64851234e+05]\n",
      " [1.95524727e+04 1.52638750e+05 3.22745000e+05 6.03754961e+04\n",
      "  4.40915188e+05 9.03282812e+05]]\n"
     ]
    }
   ],
   "source": [
    "# Or you can extract values from multiple columns\n",
    "variables = data_all.iloc[:,5:].values\n",
    "\n",
    "print(variables[:5,:])  # Visualize the first 5 rows of the data"
   ]
  },
  {
   "cell_type": "markdown",
   "metadata": {},
   "source": [
    "### Short exercise 5.0\n",
    "\n",
    "Before analyzing the data, it is always good to examine the data visually. There can be already some visible patterns in the data that can help you to make some assumptions and build models."
   ]
  },
  {
   "cell_type": "code",
   "execution_count": 234,
   "metadata": {},
   "outputs": [
    {
     "data": {
      "text/plain": [
       "\"\\n# Answers and hints\\nno2_scatter('weekday_daytime_no2', 'roadlength_1000m', data_all)\\n\""
      ]
     },
     "execution_count": 234,
     "metadata": {},
     "output_type": "execute_result"
    }
   ],
   "source": [
    "# A simple way to visualize data is try to plot scatter plots to examine one-by-one how variables correlate to each other.\n",
    "# Please try to define a function that can help you to visualze \n",
    "\n",
    "'''\n",
    "# Answers and hints\n",
    "def no2_scatter(name1, name2, data):\n",
    "    series1 = data[name1]\n",
    "    series2 = data[name2]\n",
    "    \n",
    "    val1 = series1.values\n",
    "    val2 = series2.values\n",
    "    \n",
    "    plt.plot(val1, val2,'o')\n",
    "    plt.title('scatter of'+name1+name2)\n",
    "    plt.show()\n",
    "'''\n",
    "\n",
    "# Try to call the function to see if it works.\n",
    "\n",
    "'''\n",
    "# Answers and hints\n",
    "no2_scatter('weekday_daytime_no2', 'roadlength_1000m', data_all)\n",
    "'''"
   ]
  },
  {
   "cell_type": "markdown",
   "metadata": {},
   "source": [
    "Please also visualize simple statistics of the input data, such as the statistical distribution of the data. For instance, the following codes provide you a hint to examine data in the column *population_1000m*."
   ]
  },
  {
   "cell_type": "code",
   "execution_count": 237,
   "metadata": {},
   "outputs": [
    {
     "name": "stdout",
     "output_type": "stream",
     "text": [
      "<class 'numpy.ndarray'>\n",
      "0.0 20335.24805 6149.919574647303 4499.568903977864\n"
     ]
    }
   ],
   "source": [
    "from matplotlib import pyplot as plt  # Import module for plotting and visualization\n",
    "import numpy as np\n",
    "\n",
    "pop1000 = data_all['population_1000m'].values\n",
    "print(type(pop1000))\n",
    "print(np.min(pop1000), np.max(pop1000), np.mean(pop1000), np.std(pop1000))\n"
   ]
  },
  {
   "cell_type": "code",
   "execution_count": 238,
   "metadata": {},
   "outputs": [
    {
     "data": {
      "image/png": "[encoded data removed]",
      "text/plain": [
       "<Figure size 432x288 with 1 Axes>"
      ]
     },
     "metadata": {
      "needs_background": "light"
     },
     "output_type": "display_data"
    }
   ],
   "source": [
    "# Knowing the rough distributions of the data, you may have a idea how to design a histogram to see the details\n",
    "# Now you can define the histogram as you know the rough range and step according to the mean and standard deviation you obtained above.\n",
    "# Try to examine the statistical distribution of other columns.\n",
    "\n",
    "my_bin = list(np.arange(start=0.0,stop=21000.0,step=1000))\n",
    "plt.hist(pop1000, bins = my_bin) \n",
    "plt.title(\"histogram\") \n",
    "plt.show()"
   ]
  },
  {
   "cell_type": "markdown",
   "metadata": {},
   "source": [
    "### Short exercise 5.1\n",
    "\n",
    "Now recall what you have been experimented with in section 0, and try to fit simple linear models between anyone of variables and the NO2 data."
   ]
  },
  {
   "cell_type": "code",
   "execution_count": 213,
   "metadata": {},
   "outputs": [
    {
     "data": {
      "text/plain": [
       "[<matplotlib.lines.Line2D at 0x1eecfc2b080>]"
      ]
     },
     "execution_count": 213,
     "metadata": {},
     "output_type": "execute_result"
    },
    {
     "data": {
      "image/png": "[encoded data removed]",
      "text/plain": [
       "<Figure size 864x360 with 1 Axes>"
      ]
     },
     "metadata": {
      "needs_background": "light"
     },
     "output_type": "display_data"
    }
   ],
   "source": [
    "# Answers and hints\n",
    "# Define a function to fit a linear model to the dummy data.\n",
    "def fit(x, y):\n",
    "    # x : (N, D) np.ndarray\n",
    "    # y : (N,) np.ndarray\n",
    "    # Linear fit means a linear model in the form of M(x) = θ1 + θ2x is assumed\n",
    "    # Or, in the form of matrix multiplication M(X) = θ'X, where\n",
    "    # X is referred as designed vector/matrix in the form of [1, x]' and θ is [θ1, θ2]'\n",
    "    X_mat=np.hstack((np.ones(len(x)).reshape(-1,1), x))  # X_mat is a designed matrix\n",
    "    \n",
    "    # Given the observed data y, a proper solution of θ to M(x) can be: θ* = argmin (||y - X @ θ||^2_2)\n",
    "    theta = np.linalg.inv(X_mat.T.dot(X_mat)).dot(X_mat.T).dot(y)  # If you see an @ in the middle of a line, that's matrix multiplication.\n",
    "    var = np.mean(np.square(X_mat @ theta - y))\n",
    "    return theta, var\n",
    "\n",
    "def predict(x, theta, var, return_std:bool=False):\n",
    "    X_mat=np.hstack((np.ones(len(x)).reshape(-1,1), x))  # X_mat is a designed matrix\n",
    "    y = X_mat @ theta\n",
    "    if return_std:\n",
    "        y_std = np.sqrt(var) + np.zeros_like(y)\n",
    "        return y, y_std\n",
    "    return y\n",
    "\n",
    "weights, variance = fit(data_all['population_1000m'].values.reshape(-1,1), data_all['weekday_daytime_no2'].values)\n",
    "\n",
    "x_all = np.linspace(data_all['population_1000m'].values.min(), data_all['population_1000m'].values.max(), 500).reshape(-1,1)\n",
    "no2_predict = predict(x_all, weights, variance)\n",
    "\n",
    "plt.figure(figsize=(12,5))\n",
    "plt.xlim([data_all['population_1000m'].values.min(), data_all['population_1000m'].values.max()])\n",
    "plt.ylim([data_all['weekday_daytime_no2'].values.min(), data_all['weekday_daytime_no2'].values.max()])\n",
    "plt.title('Data fitted')\n",
    "plt.plot(data_all['population_1000m'].values, data_all['weekday_daytime_no2'].values,'kx',label='training data')\n",
    "plt.plot(x_all, no2_predict, '--g', linewidth=.5)"
   ]
  },
  {
   "cell_type": "code",
   "execution_count": 214,
   "metadata": {},
   "outputs": [],
   "source": [
    "# Try to further explore how each variable correlates to the NO2"
   ]
  },
  {
   "cell_type": "markdown",
   "metadata": {},
   "source": [
    "### Short exercise 5.2\n",
    "\n",
    "Recall linear regression examples in section 1. Please implement **regression** between NO<sub>2</sub> and one or more vairables in the dataset. Compare how your model perform by using the **training** and **validation** manner."
   ]
  },
  {
   "cell_type": "code",
   "execution_count": null,
   "metadata": {},
   "outputs": [],
   "source": []
  },
  {
   "cell_type": "markdown",
   "metadata": {},
   "source": [
    "### Short exercise 5.2\n",
    "\n",
    "Now please implement the **Decision Tree** and **Random Forest** algorithms and apply them to the NO<sub>2</sub> **regression** task. Fine-tune the model parameters such as the tree depth and number of trees to see how the models perform in comparison to the above *more conventional* **regression** approaches. And which **variable**/**feature** is the most important one for tree/forest based approaches?"
   ]
  },
  {
   "cell_type": "code",
   "execution_count": null,
   "metadata": {},
   "outputs": [],
   "source": []
  },
  {
   "cell_type": "code",
   "execution_count": null,
   "metadata": {},
   "outputs": [],
   "source": []
  },
  {
   "cell_type": "code",
   "execution_count": null,
   "metadata": {},
   "outputs": [],
   "source": []
  },
  {
   "cell_type": "markdown",
   "metadata": {},
   "source": [
    "As you have already noticed in *section 5.0*, data within different columns of the original dataset can be with significantly different distribution. If we again consider each **variable** as a **feature**, it means some **feature** may be quite *congested*, it is better to standardize **variables**/**features** to have all of them on the same scale before feeding them into *machine learning* algorithms. Let's apply standardization this time to see if improvements can be achieved. How do you interpret the results?"
   ]
  },
  {
   "cell_type": "code",
   "execution_count": null,
   "metadata": {},
   "outputs": [],
   "source": [
    "# Hint: in 'Sklearn', there are also modules for you to preprocessing your data, such as standardization.\n",
    "# And training/validation split.\n",
    "\n",
    "from sklearn.preprocessing import StandardScaler\n",
    "from sklearn.model_selection import train_test_split\n",
    "\n",
    "sc = StandardScaler()\n",
    "X_train = sc.fit_transform(X_train)\n",
    "X_test = sc.transform(X_test)\n",
    "\n",
    "X_train, X_test, y_train, y_test = train_test_split(X, y, test_size=0.2, random_state=0)"
   ]
  },
  {
   "cell_type": "code",
   "execution_count": null,
   "metadata": {},
   "outputs": [],
   "source": []
  },
  {
   "cell_type": "code",
   "execution_count": null,
   "metadata": {},
   "outputs": [],
   "source": []
  },
  {
   "cell_type": "code",
   "execution_count": null,
   "metadata": {},
   "outputs": [],
   "source": []
  },
  {
   "cell_type": "code",
   "execution_count": null,
   "metadata": {},
   "outputs": [],
   "source": []
  },
  {
   "cell_type": "code",
   "execution_count": null,
   "metadata": {},
   "outputs": [],
   "source": []
  }
 ],
 "metadata": {
  "kernelspec": {
   "display_name": "Python 3",
   "language": "python",
   "name": "python3"
  },
  "language_info": {
   "codemirror_mode": {
    "name": "ipython",
    "version": 3
   },
   "file_extension": ".py",
   "mimetype": "text/x-python",
   "name": "python",
   "nbconvert_exporter": "python",
   "pygments_lexer": "ipython3",
   "version": "3.7.3"
  }
 },
 "nbformat": 4,
 "nbformat_minor": 2
}
