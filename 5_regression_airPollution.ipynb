{
 "cells": [
  {
   "cell_type": "markdown",
   "metadata": {},
   "source": [
    "5 Regression on real dataset: air pollution mapping\n",
    "-------------------\n",
    "\n",
    "The power of *machine learning* for **regression** can only be manifested by its application to real dataset. For instance, you will never know why the **Random Forest** is such a popular algorithm and how it outperforms the other approaches.\n",
    "\n",
    "In this challenge, you are going to work with GIS point dataset, where air pollutant NO<sub>2</sub> and some potential predictors (indicators) are provided. While acquiring point measurement of NO<sub>2</sub> at each station, indicators such as road length and population size within a buffer of the station is also obtained. Specifically you will have weekday daytime and nighttime NO<sub>2</sub> point measurements at several stations (point). Road length and population size around each station (point) is indicated with the buffer size. For instance, 'populaiton_3000m' means population size within the 3000m buffer zone around each stations (point).\n",
    "\n",
    "You will work with famous 'pandas' module to handle table based dataset. You will also try to learn how to study the functionality of the module by exploring online open source documentation.\n",
    "\n"
   ]
  },
  {
   "cell_type": "code",
   "execution_count": 2,
   "metadata": {},
   "outputs": [
    {
     "name": "stderr",
     "output_type": "stream",
     "text": [
      "UsageError: unrecognized arguments: # Again, we need to inform this notebook to plot figures in lines, you can ignore this code\n"
     ]
    }
   ],
   "source": [
    "%matplotlib inline  # Again, we need to inform this notebook to plot figures in lines, you can ignore this code"
   ]
  },
  {
   "cell_type": "code",
   "execution_count": 73,
   "metadata": {},
   "outputs": [
    {
     "name": "stderr",
     "output_type": "stream",
     "text": [
      "fatal: destination path 'data' already exists and is not an empty directory.\n"
     ]
    }
   ],
   "source": [
    "# Also, before reading the data you need to first clone the data on Github to our Colab workspace\n",
    "!git clone https://github.com/jonwangio/uu_ml/tree/main/data"
   ]
  },
  {
   "cell_type": "markdown",
   "metadata": {},
   "source": [
    "### 5.0 Data and preprocessing"
   ]
  },
  {
   "cell_type": "code",
   "execution_count": 3,
   "metadata": {},
   "outputs": [
    {
     "data": {
      "text/html": [
       "<div>\n",
       "<style scoped>\n",
       "    .dataframe tbody tr th:only-of-type {\n",
       "        vertical-align: middle;\n",
       "    }\n",
       "\n",
       "    .dataframe tbody tr th {\n",
       "        vertical-align: top;\n",
       "    }\n",
       "\n",
       "    .dataframe thead th {\n",
       "        text-align: right;\n",
       "    }\n",
       "</style>\n",
       "<table border=\"1\" class=\"dataframe\">\n",
       "  <thead>\n",
       "    <tr style=\"text-align: right;\">\n",
       "      <th></th>\n",
       "      <th>Point</th>\n",
       "      <th>Longitude</th>\n",
       "      <th>Latitude</th>\n",
       "      <th>weekday_daytime_no2</th>\n",
       "      <th>weekday_nighttime_no2</th>\n",
       "      <th>population_1000m</th>\n",
       "      <th>population_3000m</th>\n",
       "      <th>population_5000m</th>\n",
       "      <th>roadlength_1000m</th>\n",
       "      <th>roadlength_3000m</th>\n",
       "      <th>roadlength_5000m</th>\n",
       "    </tr>\n",
       "  </thead>\n",
       "  <tbody>\n",
       "    <tr>\n",
       "      <th>0</th>\n",
       "      <td>1</td>\n",
       "      <td>3.749458</td>\n",
       "      <td>51.295278</td>\n",
       "      <td>15.486447</td>\n",
       "      <td>16.807046</td>\n",
       "      <td>440.064819</td>\n",
       "      <td>3312.588867</td>\n",
       "      <td>8206.84375</td>\n",
       "      <td>0.00000</td>\n",
       "      <td>28314.40625</td>\n",
       "      <td>60863.47656</td>\n",
       "    </tr>\n",
       "    <tr>\n",
       "      <th>1</th>\n",
       "      <td>2</td>\n",
       "      <td>3.916947</td>\n",
       "      <td>51.635556</td>\n",
       "      <td>14.697327</td>\n",
       "      <td>16.898273</td>\n",
       "      <td>492.458710</td>\n",
       "      <td>3886.029297</td>\n",
       "      <td>5170.12207</td>\n",
       "      <td>5352.03125</td>\n",
       "      <td>62689.73828</td>\n",
       "      <td>75216.85156</td>\n",
       "    </tr>\n",
       "    <tr>\n",
       "      <th>2</th>\n",
       "      <td>3</td>\n",
       "      <td>4.121389</td>\n",
       "      <td>51.978056</td>\n",
       "      <td>28.577064</td>\n",
       "      <td>30.600098</td>\n",
       "      <td>3102.089111</td>\n",
       "      <td>23252.750000</td>\n",
       "      <td>61342.87891</td>\n",
       "      <td>12614.07422</td>\n",
       "      <td>38824.15234</td>\n",
       "      <td>77248.41406</td>\n",
       "    </tr>\n",
       "    <tr>\n",
       "      <th>3</th>\n",
       "      <td>4</td>\n",
       "      <td>4.227778</td>\n",
       "      <td>51.931944</td>\n",
       "      <td>31.335268</td>\n",
       "      <td>33.090708</td>\n",
       "      <td>6142.983398</td>\n",
       "      <td>36911.640630</td>\n",
       "      <td>79492.71094</td>\n",
       "      <td>13942.57422</td>\n",
       "      <td>82291.88281</td>\n",
       "      <td>164851.23440</td>\n",
       "    </tr>\n",
       "    <tr>\n",
       "      <th>4</th>\n",
       "      <td>5</td>\n",
       "      <td>4.289172</td>\n",
       "      <td>52.078056</td>\n",
       "      <td>23.677740</td>\n",
       "      <td>26.016235</td>\n",
       "      <td>19552.472660</td>\n",
       "      <td>152638.750000</td>\n",
       "      <td>322745.00000</td>\n",
       "      <td>60375.49609</td>\n",
       "      <td>440915.18750</td>\n",
       "      <td>903282.81250</td>\n",
       "    </tr>\n",
       "  </tbody>\n",
       "</table>\n",
       "</div>"
      ],
      "text/plain": [
       "   Point  Longitude   Latitude  weekday_daytime_no2  weekday_nighttime_no2  \\\n",
       "0      1   3.749458  51.295278            15.486447              16.807046   \n",
       "1      2   3.916947  51.635556            14.697327              16.898273   \n",
       "2      3   4.121389  51.978056            28.577064              30.600098   \n",
       "3      4   4.227778  51.931944            31.335268              33.090708   \n",
       "4      5   4.289172  52.078056            23.677740              26.016235   \n",
       "\n",
       "   population_1000m  population_3000m  population_5000m  roadlength_1000m  \\\n",
       "0        440.064819       3312.588867        8206.84375           0.00000   \n",
       "1        492.458710       3886.029297        5170.12207        5352.03125   \n",
       "2       3102.089111      23252.750000       61342.87891       12614.07422   \n",
       "3       6142.983398      36911.640630       79492.71094       13942.57422   \n",
       "4      19552.472660     152638.750000      322745.00000       60375.49609   \n",
       "\n",
       "   roadlength_3000m  roadlength_5000m  \n",
       "0       28314.40625       60863.47656  \n",
       "1       62689.73828       75216.85156  \n",
       "2       38824.15234       77248.41406  \n",
       "3       82291.88281      164851.23440  \n",
       "4      440915.18750      903282.81250  "
      ]
     },
     "execution_count": 3,
     "metadata": {},
     "output_type": "execute_result"
    }
   ],
   "source": [
    "# The first thing you need to do is to import the 'pandas' module\n",
    "\n",
    "import pandas as pd\n",
    "\n",
    "# You can be able to read *.csv based GIS point dataset by using 'pandas'\n",
    "data_all = pd.read_csv('data/no2.csv')  # 'Programming-Basics/data/no2.csv'\n",
    "# Print(data_no2)\n",
    "data_all.head(5)  # What does this mean?"
   ]
  },
  {
   "cell_type": "code",
   "execution_count": 4,
   "metadata": {},
   "outputs": [
    {
     "data": {
      "text/plain": [
       "Index(['Point', 'Longitude', 'Latitude', 'weekday_daytime_no2',\n",
       "       'weekday_nighttime_no2', 'population_1000m', 'population_3000m',\n",
       "       'population_5000m', 'roadlength_1000m', 'roadlength_3000m',\n",
       "       'roadlength_5000m'],\n",
       "      dtype='object')"
      ]
     },
     "execution_count": 4,
     "metadata": {},
     "output_type": "execute_result"
    }
   ],
   "source": [
    "# Pandas dataframe allows overview of the variable names or the names of the columns\n",
    "data_all.columns"
   ]
  },
  {
   "cell_type": "code",
   "execution_count": 55,
   "metadata": {},
   "outputs": [
    {
     "name": "stdout",
     "output_type": "stream",
     "text": [
      "(482,)\n"
     ]
    }
   ],
   "source": [
    "# Extract the daytime NO2 data as a column\n",
    "# Try to figure out what does the data type mean?\n",
    "\n",
    "daytime_no2 = data_all['weekday_daytime_no2']\n",
    "\n",
    "# You can further extract the values of the pandas column as Numpy array. Handy!\n",
    "\n",
    "no2_val = daytime_no2.values\n",
    "print(no2_val.shape)"
   ]
  },
  {
   "cell_type": "code",
   "execution_count": 56,
   "metadata": {},
   "outputs": [
    {
     "name": "stdout",
     "output_type": "stream",
     "text": [
      "[[4.40064819e+02 3.31258887e+03 8.20684375e+03 0.00000000e+00\n",
      "  2.83144062e+04 6.08634766e+04]\n",
      " [4.92458710e+02 3.88602930e+03 5.17012207e+03 5.35203125e+03\n",
      "  6.26897383e+04 7.52168516e+04]\n",
      " [3.10208911e+03 2.32527500e+04 6.13428789e+04 1.26140742e+04\n",
      "  3.88241523e+04 7.72484141e+04]\n",
      " [6.14298340e+03 3.69116406e+04 7.94927109e+04 1.39425742e+04\n",
      "  8.22918828e+04 1.64851234e+05]\n",
      " [1.95524727e+04 1.52638750e+05 3.22745000e+05 6.03754961e+04\n",
      "  4.40915188e+05 9.03282812e+05]]\n"
     ]
    }
   ],
   "source": [
    "# Or you can extract values from multiple columns\n",
    "variables = data_all.iloc[:,5:].values\n",
    "\n",
    "print(variables[:5,:])  # Visualize the first 5 rows of the data"
   ]
  },
  {
   "cell_type": "markdown",
   "metadata": {},
   "source": [
    "### Short exercise 5.0\n",
    "\n",
    "Before analyzing the data, it is always good to examine the data visually. There can be already some visible patterns in the data that can help you to make some assumptions and build models."
   ]
  },
  {
   "cell_type": "code",
   "execution_count": 57,
   "metadata": {},
   "outputs": [
    {
     "data": {
      "text/plain": [
       "\"\\n# Answers and hints\\nno2_scatter('weekday_daytime_no2', 'roadlength_1000m', data_all)\\n\""
      ]
     },
     "execution_count": 57,
     "metadata": {},
     "output_type": "execute_result"
    }
   ],
   "source": [
    "# A simple way to visualize data is try to plot scatter plots to examine one-by-one how variables correlate to each other.\n",
    "# Please try to define a function that can help you to visualze \n",
    "\n",
    "'''\n",
    "# Answers and hints\n",
    "def no2_scatter(name1, name2, data):\n",
    "    series1 = data[name1]\n",
    "    series2 = data[name2]\n",
    "    \n",
    "    val1 = series1.values\n",
    "    val2 = series2.values\n",
    "    \n",
    "    plt.plot(val1, val2,'o')\n",
    "    plt.title('scatter of'+name1+name2)\n",
    "    plt.show()\n",
    "'''\n",
    "\n",
    "# Try to call the function to see if it works.\n",
    "\n",
    "'''\n",
    "# Answers and hints\n",
    "no2_scatter('weekday_daytime_no2', 'roadlength_1000m', data_all)\n",
    "'''"
   ]
  },
  {
   "cell_type": "markdown",
   "metadata": {},
   "source": [
    "Please also visualize simple statistics of the input data, such as the probabilistic distribution of the data. For instance, the following codes provide you a hint to examine data in the column *population_1000m*."
   ]
  },
  {
   "cell_type": "code",
   "execution_count": 84,
   "metadata": {},
   "outputs": [
    {
     "name": "stdout",
     "output_type": "stream",
     "text": [
      "<class 'numpy.ndarray'>\n",
      "0.0 20335.24805 6149.919574647303 4499.568903977864\n"
     ]
    }
   ],
   "source": [
    "from matplotlib import pyplot as plt  # Import module for plotting and visualization\n",
    "import numpy as np\n",
    "\n",
    "pop1000 = data_all['population_1000m'].values\n",
    "print(type(pop1000))\n",
    "print(np.min(pop1000), np.max(pop1000), np.mean(pop1000), np.std(pop1000))\n"
   ]
  },
  {
   "cell_type": "code",
   "execution_count": 85,
   "metadata": {},
   "outputs": [
    {
     "data": {
      "image/png": "[encoded data removed]",
      "text/plain": [
       "<Figure size 432x288 with 1 Axes>"
      ]
     },
     "metadata": {
      "needs_background": "light"
     },
     "output_type": "display_data"
    }
   ],
   "source": [
    "# Knowing the rough distributions of the data, you may have a idea how to design a histogram to see the details\n",
    "# Now you can define the histogram as you know the rough range and step according to the mean and standard deviation you obtained above.\n",
    "# Try to examine the statistical distribution of other columns.\n",
    "\n",
    "my_bin = list(np.arange(start=0.0,stop=21000.0,step=1000))\n",
    "plt.hist(pop1000, bins = my_bin) \n",
    "plt.title(\"histogram\") \n",
    "plt.show()"
   ]
  },
  {
   "cell_type": "markdown",
   "metadata": {},
   "source": [
    "### Short exercise 5.1\n",
    "\n",
    "Now recall what you have been experimented with in section 0, and try to fit simple linear models between anyone of variables and the NO2 data."
   ]
  },
  {
   "cell_type": "code",
   "execution_count": 99,
   "metadata": {},
   "outputs": [
    {
     "data": {
      "text/plain": [
       "<matplotlib.legend.Legend at 0x2aa78c6d0f0>"
      ]
     },
     "execution_count": 99,
     "metadata": {},
     "output_type": "execute_result"
    },
    {
     "data": {
      "image/png": "[encoded data removed]",
      "text/plain": [
       "<Figure size 864x360 with 1 Axes>"
      ]
     },
     "metadata": {
      "needs_background": "light"
     },
     "output_type": "display_data"
    }
   ],
   "source": [
    "# Answers and hints\n",
    "# Define a function to fit a linear model to the dummy data.\n",
    "def fit(x, y):\n",
    "    # x : (N, D) np.ndarray\n",
    "    # y : (N,) np.ndarray\n",
    "    # Linear fit means a linear model in the form of M(x) = θ1 + θ2x is assumed\n",
    "    # Or, in the form of matrix multiplication M(X) = θ'X, where\n",
    "    # X is referred as designed vector/matrix in the form of [1, x]' and θ is [θ1, θ2]'\n",
    "    X_mat=np.hstack((np.ones(len(x)).reshape(-1,1), x))  # X_mat is a designed matrix\n",
    "    \n",
    "    # Given the observed data y, a proper solution of θ to M(x) can be: θ* = argmin (||y - X @ θ||^2_2)\n",
    "    theta = np.linalg.inv(X_mat.T.dot(X_mat)).dot(X_mat.T).dot(y)  # If you see an @ in the middle of a line, that's matrix multiplication.\n",
    "    var = np.mean(np.square(X_mat @ theta - y))\n",
    "    return theta, var\n",
    "\n",
    "def predict(x, theta, var, return_std:bool=False):\n",
    "    X_mat=np.hstack((np.ones(len(x)).reshape(-1,1), x))  # X_mat is a designed matrix\n",
    "    y = X_mat @ theta\n",
    "    if return_std:\n",
    "        y_std = np.sqrt(var) + np.zeros_like(y)\n",
    "        return y, y_std\n",
    "    return y\n",
    "\n",
    "column_name = 'population_3000m'  # Select data column\n",
    "weights, variance = fit(data_all[column_name].values.reshape(-1,1), data_all['weekday_daytime_no2'].values)\n",
    "\n",
    "x_all = np.linspace(data_all[column_name].values.min(), data_all[column_name].values.max(), 500).reshape(-1,1)\n",
    "no2_predict = predict(x_all, weights, variance)\n",
    "\n",
    "plt.figure(figsize=(12,5))\n",
    "plt.xlim([data_all[column_name].values.min(), data_all[column_name].values.max()])\n",
    "plt.ylim([data_all['weekday_daytime_no2'].values.min(), data_all['weekday_daytime_no2'].values.max()])\n",
    "plt.title('Data fitted')\n",
    "plt.plot(data_all[column_name].values, data_all['weekday_daytime_no2'].values,'kx',label='training data')\n",
    "plt.plot(x_all, no2_predict, '--g', linewidth=.5, label='predicted NO2-population curve')\n",
    "plt.legend()"
   ]
  },
  {
   "cell_type": "code",
   "execution_count": 11,
   "metadata": {},
   "outputs": [],
   "source": [
    "# Try to further explore how each variable correlates to the NO2"
   ]
  },
  {
   "cell_type": "markdown",
   "metadata": {},
   "source": [
    "### Short exercise 5.2\n",
    "\n",
    "Recall linear regression examples in section 1. Please implement **regression** between NO<sub>2</sub> and population as well as road network configuration. Compare how your model perform by using the **training** and **validation/test** manner. Try to interpret the figure plotted.\n",
    "\n",
    "In the below example, all **variables** are used for a **regularized** regression. You can start your experiment by using one or few of them."
   ]
  },
  {
   "cell_type": "code",
   "execution_count": 98,
   "metadata": {
    "scrolled": true
   },
   "outputs": [
    {
     "name": "stderr",
     "output_type": "stream",
     "text": [
      "C:\\Users\\Jon\\Anaconda3\\lib\\site-packages\\ipykernel_launcher.py:28: UserWarning: With alpha=0, this algorithm does not converge well. You are advised to use the LinearRegression estimator\n",
      "C:\\Users\\Jon\\Anaconda3\\lib\\site-packages\\sklearn\\linear_model\\coordinate_descent.py:475: UserWarning: Coordinate descent with no regularization may lead to unexpected results and is discouraged.\n",
      "  positive)\n",
      "C:\\Users\\Jon\\Anaconda3\\lib\\site-packages\\sklearn\\linear_model\\coordinate_descent.py:475: ConvergenceWarning: Objective did not converge. You might want to increase the number of iterations. Duality gap: 20413.604373869435, tolerance: 8.402106069964669\n",
      "  positive)\n"
     ]
    },
    {
     "data": {
      "text/plain": [
       "Text(0, 0.5, 'RMSE')"
      ]
     },
     "execution_count": 98,
     "metadata": {},
     "output_type": "execute_result"
    },
    {
     "data": {
      "image/png": "[encoded data removed]",
      "text/plain": [
       "<Figure size 864x360 with 1 Axes>"
      ]
     },
     "metadata": {
      "needs_background": "light"
     },
     "output_type": "display_data"
    }
   ],
   "source": [
    "# This time, try to use all modules from sklearn for data preparation\n",
    "from sklearn.linear_model import Lasso, Ridge\n",
    "from sklearn.model_selection import train_test_split\n",
    "from sklearn.metrics import mean_squared_error\n",
    "from sklearn.preprocessing import StandardScaler\n",
    "\n",
    "# Extract all independent variables/features\n",
    "x = data_all.iloc[:,5:].values\n",
    "# Daytime NO2 as the dependent variable, here you use daytime NO2, but also try to experiment with nighttime values.\n",
    "y = data_all['weekday_daytime_no2'].values.reshape(-1,1)  # Different way of extraction: column name vs. '.iloc'\n",
    "\n",
    "# Prepare training and test set\n",
    "x_train, x_test, y_train, y_test = train_test_split(x, y, test_size=0.3, random_state=40)\n",
    "\n",
    "# As the input variables are with very large range, from 10^2~10^4, it is better to standardize the data before using\n",
    "# Standardize the independent variables by using the Sklearn functionality\n",
    "sc = StandardScaler()  # Initiate data standardization functionality\n",
    "x_train = sc.fit_transform(x_train)  # Standardize both training and test sets for the independent variables\n",
    "x_test = sc.transform(x_test)\n",
    "\n",
    "# Inspect \n",
    "RMSE_test = []\n",
    "RMSE_train = []\n",
    "for i in range(0, 200, 5):\n",
    "    # Configure model with different regularization parameter\n",
    "    # Also try to experiment with Ridge regression\n",
    "    model = Lasso(alpha=i/100)\n",
    "    # Then, fit this model to the data.\n",
    "    model.fit(x_train, y_train)\n",
    "    RMSE_train.append(np.sqrt(mean_squared_error(y_train, model.predict(x_train))))\n",
    "    RMSE_test.append(np.sqrt(mean_squared_error(y_test, model.predict(x_test))))\n",
    "\n",
    "# Plot model performance with different regularization parameter\n",
    "plt.figure(figsize=(12,5))\n",
    "plt.plot(range(1,len(RMSE_test)+1), RMSE_test,'-or', linewidth=.5, label='Test_Data')\n",
    "plt.plot(range(1,len(RMSE_train)+1), RMSE_train, '-*g', linewidth=.5, label='Train_Data')\n",
    "plt.legend()\n",
    "plt.title('RMSE with respect to models with different Ridge parameter')\n",
    "plt.xlabel('Model instances')\n",
    "plt.ylabel('RMSE')"
   ]
  },
  {
   "cell_type": "code",
   "execution_count": 51,
   "metadata": {},
   "outputs": [
    {
     "data": {
      "text/plain": [
       "array([[15.48644693],\n",
       "       [14.69732734],\n",
       "       [28.57706396],\n",
       "       [31.3352681 ],\n",
       "       [23.67773975],\n",
       "       [36.30109783],\n",
       "       [36.00998068],\n",
       "       [28.07641535],\n",
       "       [18.47430598],\n",
       "       [27.31049669],\n",
       "       [32.05178106],\n",
       "       [40.4343543 ],\n",
       "       [19.15116047],\n",
       "       [48.92342018],\n",
       "       [32.85631433],\n",
       "       [45.85299501],\n",
       "       [29.48129697],\n",
       "       [14.54389012],\n",
       "       [18.9024395 ],\n",
       "       [42.92516593],\n",
       "       [28.82524627],\n",
       "       [18.50605114],\n",
       "       [30.95089079],\n",
       "       [24.42758087],\n",
       "       [24.99640669],\n",
       "       [20.21195986],\n",
       "       [24.41595265],\n",
       "       [26.90067797],\n",
       "       [31.34852778],\n",
       "       [24.34578057],\n",
       "       [22.21430556],\n",
       "       [22.66009096],\n",
       "       [37.61537543],\n",
       "       [31.82875872],\n",
       "       [16.62744419],\n",
       "       [50.11016329],\n",
       "       [48.76465662],\n",
       "       [27.57393617],\n",
       "       [53.83641907],\n",
       "       [39.78323619],\n",
       "       [38.6723973 ],\n",
       "       [31.33448753],\n",
       "       [17.95289773],\n",
       "       [25.45340402],\n",
       "       [35.54257318],\n",
       "       [24.49178959],\n",
       "       [12.15504735],\n",
       "       [34.24735093],\n",
       "       [31.83464753],\n",
       "       [23.32828998],\n",
       "       [20.03412667],\n",
       "       [26.80089227],\n",
       "       [20.518943  ],\n",
       "       [19.47790381],\n",
       "       [33.60234227],\n",
       "       [27.09825103],\n",
       "       [10.33011546],\n",
       "       [14.29095609],\n",
       "       [16.78485927],\n",
       "       [18.44746751],\n",
       "       [25.07799833],\n",
       "       [37.30187622],\n",
       "       [15.49705056],\n",
       "       [31.03423599],\n",
       "       [17.66915024],\n",
       "       [12.21982563],\n",
       "       [17.82439079],\n",
       "       [14.58491087],\n",
       "       [59.54395335],\n",
       "       [22.09064759],\n",
       "       [ 8.93691514],\n",
       "       [ 5.96856403],\n",
       "       [ 5.58548026],\n",
       "       [12.88380528],\n",
       "       [35.85154443],\n",
       "       [19.43460006],\n",
       "       [25.05511641],\n",
       "       [19.43965719],\n",
       "       [ 9.13404074],\n",
       "       [30.30935962],\n",
       "       [17.00194339],\n",
       "       [13.69795819],\n",
       "       [12.20265931],\n",
       "       [22.80411714],\n",
       "       [36.9158523 ],\n",
       "       [30.90634815],\n",
       "       [20.46470816],\n",
       "       [33.32871457],\n",
       "       [31.91090782],\n",
       "       [26.1513002 ],\n",
       "       [18.26382418],\n",
       "       [33.18638167],\n",
       "       [27.6204611 ],\n",
       "       [21.64523862],\n",
       "       [41.10175276],\n",
       "       [66.66220231],\n",
       "       [27.75810897],\n",
       "       [58.03722238],\n",
       "       [26.95970597],\n",
       "       [21.44336598],\n",
       "       [21.43173535],\n",
       "       [19.8884642 ],\n",
       "       [24.32058116],\n",
       "       [10.60584843],\n",
       "       [25.98464835],\n",
       "       [48.76908346],\n",
       "       [35.91111621],\n",
       "       [26.86754274],\n",
       "       [28.84973372],\n",
       "       [31.56280941],\n",
       "       [28.9518544 ],\n",
       "       [37.81363344],\n",
       "       [43.24620319],\n",
       "       [74.38604155],\n",
       "       [28.10926304],\n",
       "       [48.83136192],\n",
       "       [56.96804448],\n",
       "       [43.06293434],\n",
       "       [16.63106161],\n",
       "       [24.30909698],\n",
       "       [31.02266553],\n",
       "       [26.59966638],\n",
       "       [51.91951867],\n",
       "       [52.90057782],\n",
       "       [27.70859634],\n",
       "       [59.68075909],\n",
       "       [25.25163631],\n",
       "       [ 5.38026748],\n",
       "       [16.39126539],\n",
       "       [23.46007141],\n",
       "       [26.67545087],\n",
       "       [ 7.38790932],\n",
       "       [14.66727374],\n",
       "       [21.38138399],\n",
       "       [28.8741073 ],\n",
       "       [28.84755537],\n",
       "       [59.67993769],\n",
       "       [43.14015256],\n",
       "       [24.07241417],\n",
       "       [59.11034104],\n",
       "       [19.65518395],\n",
       "       [23.55737909],\n",
       "       [24.70704037],\n",
       "       [48.783366  ],\n",
       "       [39.5645528 ],\n",
       "       [19.96912529],\n",
       "       [18.4116    ],\n",
       "       [47.96047646],\n",
       "       [19.32384272],\n",
       "       [22.05514064],\n",
       "       [ 8.98798774],\n",
       "       [ 4.12569269],\n",
       "       [22.86294035],\n",
       "       [25.33379021],\n",
       "       [ 5.24367301],\n",
       "       [20.03221722],\n",
       "       [63.554404  ],\n",
       "       [26.67244154],\n",
       "       [ 2.61580789],\n",
       "       [12.92166017],\n",
       "       [ 8.43332864],\n",
       "       [53.69417722],\n",
       "       [18.95793228],\n",
       "       [55.75205633],\n",
       "       [23.68178483],\n",
       "       [10.73482691],\n",
       "       [13.34835893],\n",
       "       [ 6.23587108],\n",
       "       [59.84799605],\n",
       "       [23.44656608],\n",
       "       [17.56505587],\n",
       "       [61.32744564],\n",
       "       [61.46643783],\n",
       "       [29.71052052],\n",
       "       [18.44284322],\n",
       "       [57.24753463],\n",
       "       [40.02159424],\n",
       "       [49.90456877],\n",
       "       [37.52650975],\n",
       "       [36.18339701],\n",
       "       [22.08028484],\n",
       "       [13.69904335],\n",
       "       [28.59414655],\n",
       "       [46.60100531],\n",
       "       [46.04559194],\n",
       "       [22.45598247],\n",
       "       [21.612266  ],\n",
       "       [27.73926193],\n",
       "       [32.92326166],\n",
       "       [52.28596952],\n",
       "       [ 8.01007709],\n",
       "       [28.2952484 ],\n",
       "       [13.60097629],\n",
       "       [25.68719184],\n",
       "       [50.63037904],\n",
       "       [31.21981153],\n",
       "       [16.10844604],\n",
       "       [47.21272677],\n",
       "       [41.8056105 ],\n",
       "       [25.06787651],\n",
       "       [40.63456302],\n",
       "       [21.73154691],\n",
       "       [26.91367862],\n",
       "       [44.49725111],\n",
       "       [21.07919337],\n",
       "       [42.28453267],\n",
       "       [71.46838799],\n",
       "       [24.64994764],\n",
       "       [26.59159218],\n",
       "       [50.00419177],\n",
       "       [27.92103208],\n",
       "       [17.35611356],\n",
       "       [55.07895362],\n",
       "       [14.47169665],\n",
       "       [18.41469524],\n",
       "       [22.2265071 ],\n",
       "       [36.94605977],\n",
       "       [22.21582415],\n",
       "       [43.84107551],\n",
       "       [43.57845492],\n",
       "       [11.29903136],\n",
       "       [24.03042921],\n",
       "       [ 8.67009096],\n",
       "       [48.44308312],\n",
       "       [14.97613986],\n",
       "       [24.92844722],\n",
       "       [27.85177686],\n",
       "       [ 8.98790573],\n",
       "       [17.0057368 ],\n",
       "       [52.59094708],\n",
       "       [ 6.94612222],\n",
       "       [22.16908685],\n",
       "       [60.62955747],\n",
       "       [14.3430846 ],\n",
       "       [29.30997247],\n",
       "       [25.4165441 ],\n",
       "       [22.79796714],\n",
       "       [18.6922522 ],\n",
       "       [24.86529248],\n",
       "       [63.32151439],\n",
       "       [82.24883008],\n",
       "       [62.0875    ],\n",
       "       [85.13840985],\n",
       "       [27.18105322],\n",
       "       [ 6.63525   ],\n",
       "       [74.11323857],\n",
       "       [26.99411765],\n",
       "       [71.00362016],\n",
       "       [27.79426894],\n",
       "       [30.99779514],\n",
       "       [ 9.657934  ],\n",
       "       [ 8.87965268],\n",
       "       [ 7.83251721],\n",
       "       [39.04762693],\n",
       "       [ 8.75063707],\n",
       "       [22.10938957],\n",
       "       [25.42922132],\n",
       "       [48.18923717],\n",
       "       [43.45388611],\n",
       "       [ 9.02829323],\n",
       "       [12.91715206],\n",
       "       [14.5058873 ],\n",
       "       [21.65587797],\n",
       "       [48.16728884],\n",
       "       [13.33375727],\n",
       "       [29.92611525],\n",
       "       [19.16333333],\n",
       "       [54.0736172 ],\n",
       "       [20.13544734],\n",
       "       [ 6.84731769],\n",
       "       [26.28556314],\n",
       "       [17.79240894],\n",
       "       [16.95677564],\n",
       "       [16.4439414 ],\n",
       "       [19.10226681],\n",
       "       [13.60300664],\n",
       "       [45.79028381],\n",
       "       [ 5.77654696],\n",
       "       [56.29864595],\n",
       "       [52.01148076],\n",
       "       [30.85791309],\n",
       "       [47.44463056],\n",
       "       [17.17883005],\n",
       "       [26.7143204 ],\n",
       "       [58.79764755],\n",
       "       [26.89557616],\n",
       "       [29.44676299],\n",
       "       [37.63183832],\n",
       "       [26.48881798],\n",
       "       [48.55433536],\n",
       "       [23.4041807 ],\n",
       "       [30.71195652],\n",
       "       [36.08154806],\n",
       "       [74.56284325],\n",
       "       [26.52355143],\n",
       "       [20.84728443],\n",
       "       [14.52629989],\n",
       "       [18.05361726],\n",
       "       [17.61946533],\n",
       "       [70.08306993],\n",
       "       [52.68856985],\n",
       "       [27.03344818],\n",
       "       [11.78242821],\n",
       "       [ 9.05645643],\n",
       "       [22.07233673],\n",
       "       [14.41919878],\n",
       "       [11.72679394],\n",
       "       [ 9.24968245],\n",
       "       [ 8.24313379],\n",
       "       [25.62380039],\n",
       "       [32.01518539],\n",
       "       [16.32838415],\n",
       "       [17.1179949 ],\n",
       "       [17.27430881],\n",
       "       [13.95162636],\n",
       "       [11.29124861],\n",
       "       [42.48789385],\n",
       "       [37.99016561],\n",
       "       [14.32767313],\n",
       "       [ 6.01426979],\n",
       "       [ 3.92305169],\n",
       "       [37.70160562],\n",
       "       [14.88137797],\n",
       "       [30.70436639],\n",
       "       [34.56991439],\n",
       "       [13.8068011 ],\n",
       "       [ 6.52877224],\n",
       "       [ 5.0803351 ],\n",
       "       [42.04064516],\n",
       "       [ 5.0803351 ],\n",
       "       [14.43933946],\n",
       "       [18.2206844 ],\n",
       "       [39.10930401],\n",
       "       [19.23878771],\n",
       "       [ 6.1055245 ],\n",
       "       [24.74015152],\n",
       "       [27.50867052],\n",
       "       [30.85375723],\n",
       "       [55.88103534],\n",
       "       [18.23002492],\n",
       "       [17.77750758],\n",
       "       [41.3160927 ],\n",
       "       [30.26465398],\n",
       "       [22.3372161 ],\n",
       "       [51.80154656],\n",
       "       [22.49467165],\n",
       "       [ 4.74091365],\n",
       "       [13.20464009],\n",
       "       [10.76421271],\n",
       "       [13.07960134],\n",
       "       [36.21315514],\n",
       "       [ 5.91626422],\n",
       "       [10.03065706],\n",
       "       [ 6.4860409 ],\n",
       "       [ 7.88200997],\n",
       "       [17.12441119],\n",
       "       [27.0534609 ],\n",
       "       [ 6.01938606],\n",
       "       [14.70010497],\n",
       "       [22.88273103],\n",
       "       [27.63669053],\n",
       "       [22.58493919],\n",
       "       [33.52242837],\n",
       "       [26.62030829],\n",
       "       [96.39971002],\n",
       "       [35.6210732 ],\n",
       "       [64.72277503],\n",
       "       [33.90814743],\n",
       "       [16.2964844 ],\n",
       "       [17.7264248 ],\n",
       "       [31.74819872],\n",
       "       [43.74494997],\n",
       "       [ 6.00925988],\n",
       "       [ 8.65034693],\n",
       "       [19.90931755],\n",
       "       [11.7288963 ],\n",
       "       [10.43666574],\n",
       "       [12.11610987],\n",
       "       [24.0827378 ],\n",
       "       [ 9.10781564],\n",
       "       [17.02160606],\n",
       "       [21.04740144],\n",
       "       [19.36049888],\n",
       "       [17.15283124],\n",
       "       [54.88911068],\n",
       "       [31.62069152],\n",
       "       [12.62095411],\n",
       "       [ 6.8052092 ],\n",
       "       [17.09832133],\n",
       "       [12.76996418],\n",
       "       [17.86875691],\n",
       "       [35.34962738],\n",
       "       [48.61770569],\n",
       "       [20.94430105],\n",
       "       [26.72986061],\n",
       "       [44.96617647],\n",
       "       [31.9460243 ],\n",
       "       [26.6540066 ],\n",
       "       [10.49584718],\n",
       "       [ 8.92293046],\n",
       "       [39.44003303],\n",
       "       [15.62524008],\n",
       "       [ 8.6937787 ],\n",
       "       [21.58074074],\n",
       "       [15.83235506],\n",
       "       [14.62030904],\n",
       "       [46.44288243],\n",
       "       [49.02042202],\n",
       "       [20.39649279],\n",
       "       [ 6.46126351],\n",
       "       [13.73433389],\n",
       "       [29.67539423],\n",
       "       [22.56764983],\n",
       "       [18.5406775 ],\n",
       "       [22.76831252],\n",
       "       [31.09824842],\n",
       "       [ 6.71046832],\n",
       "       [12.79502801],\n",
       "       [ 6.58442091],\n",
       "       [38.55503066],\n",
       "       [11.77488002],\n",
       "       [ 5.05921228],\n",
       "       [14.40449047],\n",
       "       [19.01835262],\n",
       "       [23.86646184],\n",
       "       [10.68793284],\n",
       "       [46.11153803],\n",
       "       [16.54245367],\n",
       "       [21.72974202],\n",
       "       [ 8.82551561],\n",
       "       [ 4.34497897],\n",
       "       [43.59819857],\n",
       "       [15.91316515],\n",
       "       [21.44918666],\n",
       "       [40.76375344],\n",
       "       [14.52312948],\n",
       "       [12.08534483],\n",
       "       [23.010423  ],\n",
       "       [12.21566195],\n",
       "       [55.50794403],\n",
       "       [54.25351539],\n",
       "       [ 4.37851811],\n",
       "       [25.84466001],\n",
       "       [25.86579166],\n",
       "       [30.4611198 ],\n",
       "       [13.16218499],\n",
       "       [57.68274136],\n",
       "       [30.15630182],\n",
       "       [ 4.83420036],\n",
       "       [37.44125138],\n",
       "       [14.74997525],\n",
       "       [28.22840334],\n",
       "       [62.15949059],\n",
       "       [58.33312604],\n",
       "       [ 7.84316364],\n",
       "       [50.07373681],\n",
       "       [14.97984567],\n",
       "       [11.86716451],\n",
       "       [21.53877941],\n",
       "       [28.90608313],\n",
       "       [13.15226992],\n",
       "       [12.87834211],\n",
       "       [20.03538526],\n",
       "       [51.58363839],\n",
       "       [35.04708241],\n",
       "       [ 7.20166806],\n",
       "       [28.04087125],\n",
       "       [22.57096472],\n",
       "       [ 9.03495312],\n",
       "       [ 6.37156172],\n",
       "       [ 6.5247837 ],\n",
       "       [ 9.49950978],\n",
       "       [37.32835083],\n",
       "       [14.02551183],\n",
       "       [10.40396466],\n",
       "       [15.68996657],\n",
       "       [12.17642956],\n",
       "       [40.55810088],\n",
       "       [10.0182076 ],\n",
       "       [ 8.34335388],\n",
       "       [13.54269295],\n",
       "       [27.56128405]])"
      ]
     },
     "execution_count": 51,
     "metadata": {},
     "output_type": "execute_result"
    }
   ],
   "source": [
    "y"
   ]
  },
  {
   "cell_type": "code",
   "execution_count": 64,
   "metadata": {},
   "outputs": [],
   "source": [
    "# Try to experiment with Ridge with differrent regularization parameter."
   ]
  },
  {
   "cell_type": "code",
   "execution_count": null,
   "metadata": {},
   "outputs": [],
   "source": []
  },
  {
   "cell_type": "markdown",
   "metadata": {},
   "source": [
    "### Short exercise 5.2\n",
    "\n",
    "Now please implement the **Decision Tree** and **Random Forest** algorithms and apply them to the NO<sub>2</sub> **regression** task. Fine-tune the model parameters such as the tree depth and number of trees to see how the models perform in comparison to the above *more conventional* **regression** approaches. And which **variable**/**feature** is the most important one for tree/forest based approaches?"
   ]
  },
  {
   "cell_type": "code",
   "execution_count": 109,
   "metadata": {},
   "outputs": [],
   "source": [
    "# You will utilize the Random Forest module provided by the 'Sklearn'\n",
    "# There are also many preprocessing modules provided in 'Sklearn', such as split dataset for training and validation/testing\n",
    "\n",
    "from sklearn.model_selection import train_test_split\n",
    "\n",
    "# First extract all independent variables/features\n",
    "x = data_all.iloc[:,5:].values\n",
    "# Daytime NO2 as the dependent variable\n",
    "y = data_all['weekday_daytime_no2'].values.reshape(-1,1)  # Different way of extraction: column name vs. '.iloc'\n",
    "\n",
    "# Split data into training and test set\n",
    "x_train, x_test, y_train, y_test = train_test_split(x, y, test_size=0.3, random_state=0)\n"
   ]
  },
  {
   "cell_type": "code",
   "execution_count": 124,
   "metadata": {},
   "outputs": [
    {
     "name": "stderr",
     "output_type": "stream",
     "text": [
      "C:\\Users\\Jon\\Anaconda3\\lib\\site-packages\\ipykernel_launcher.py:6: DataConversionWarning: A column-vector y was passed when a 1d array was expected. Please change the shape of y to (n_samples,), for example using ravel().\n",
      "  \n"
     ]
    }
   ],
   "source": [
    "# Randome Forest regression\n",
    "\n",
    "from sklearn.ensemble import RandomForestRegressor\n",
    "\n",
    "model_rf = RandomForestRegressor(n_estimators=100)\n",
    "model_rf.fit(x_train, y_train)\n",
    "y_pred = model_rf.predict(x_test)"
   ]
  },
  {
   "cell_type": "code",
   "execution_count": 125,
   "metadata": {},
   "outputs": [
    {
     "name": "stdout",
     "output_type": "stream",
     "text": [
      "Mean Absolute Error: 8.91222223206947\n",
      "Mean Squared Error: 156.98003682422336\n",
      "Root Mean Squared Error: 12.529167443378805\n"
     ]
    }
   ],
   "source": [
    "# Model evaluation\n",
    "\n",
    "from sklearn import metrics\n",
    "\n",
    "print('Mean Absolute Error:', metrics.mean_absolute_error(y_test, y_pred))\n",
    "print('Mean Squared Error:', metrics.mean_squared_error(y_test, y_pred))\n",
    "print('Root Mean Squared Error:', np.sqrt(metrics.mean_squared_error(y_test, y_pred)))"
   ]
  },
  {
   "cell_type": "code",
   "execution_count": 126,
   "metadata": {},
   "outputs": [
    {
     "name": "stdout",
     "output_type": "stream",
     "text": [
      "Feature: 0, Score: 0.26104\n",
      "Feature: 1, Score: 0.25811\n",
      "Feature: 2, Score: 0.08365\n",
      "Feature: 3, Score: 0.07454\n",
      "Feature: 4, Score: 0.23377\n",
      "Feature: 5, Score: 0.08890\n"
     ]
    },
    {
     "data": {
      "image/png": "[encoded data removed]",
      "text/plain": [
       "<Figure size 432x288 with 1 Axes>"
      ]
     },
     "metadata": {
      "needs_background": "light"
     },
     "output_type": "display_data"
    }
   ],
   "source": [
    "# Variable/feature importance\n",
    "\n",
    "importance = model_rf.feature_importances_\n",
    "# summarize feature importance\n",
    "feature_name = data_all.columns[5:]\n",
    "for i,v in enumerate(importance):\n",
    "    print('Feature: %0d, Score: %.5f' % (i,v))\n",
    "# plot feature importance\n",
    "plt.bar(feature_name, importance)\n",
    "plt.xticks(rotation='vertical')\n",
    "plt.show()"
   ]
  },
  {
   "cell_type": "markdown",
   "metadata": {},
   "source": [
    "As you have already noticed in *section 5.0*, data within different columns of the original dataset can be with significantly different distribution. If we again consider each **variable** as a **feature**, it means some **feature** may be quite *congested*, it is better to standardize **variables**/**features** to have all of them on the same scale before feeding them into *machine learning* algorithms. Let's apply standardization this time to see if improvements can be achieved. How do you interpret the results?"
   ]
  },
  {
   "cell_type": "code",
   "execution_count": 129,
   "metadata": {},
   "outputs": [
    {
     "name": "stderr",
     "output_type": "stream",
     "text": [
      "C:\\Users\\Jon\\Anaconda3\\lib\\site-packages\\ipykernel_launcher.py:25: DataConversionWarning: A column-vector y was passed when a 1d array was expected. Please change the shape of y to (n_samples,), for example using ravel().\n"
     ]
    }
   ],
   "source": [
    "# Hint: in 'Sklearn', there are also modules for you to preprocessing your data, such as standardization.\n",
    "# And training/validation split.\n",
    "\n",
    "from sklearn.preprocessing import StandardScaler\n",
    "from sklearn.model_selection import train_test_split\n",
    "\n",
    "# First extract all independent variables/features\n",
    "x = data_all.iloc[:,5:].values\n",
    "# Daytime NO2 as the dependent variable\n",
    "y = data_all['weekday_daytime_no2'].values.reshape(-1,1)  # Different way of extraction: column name vs. '.iloc'\n",
    "\n",
    "# Split data into training and test set\n",
    "x_train, x_test, y_train, y_test = train_test_split(x, y, test_size=0.3, random_state=0)\n",
    "\n",
    "# Standardize the independent variables\n",
    "sc = StandardScaler()  # Initiate data standardization functionality\n",
    "x_train = sc.fit_transform(x_train)  # Standardize both training and test sets for the independent variables\n",
    "x_test = sc.transform(x_test)\n",
    "\n",
    "# Randome Forest regression\n",
    "\n",
    "from sklearn.ensemble import RandomForestRegressor\n",
    "\n",
    "model_rf = RandomForestRegressor(n_estimators=100, random_state=0)\n",
    "model_rf.fit(x_train, y_train)\n",
    "y_pred = model_rf.predict(x_test)"
   ]
  },
  {
   "cell_type": "code",
   "execution_count": 130,
   "metadata": {},
   "outputs": [
    {
     "name": "stdout",
     "output_type": "stream",
     "text": [
      "Mean Absolute Error: 8.737450388886492\n",
      "Mean Squared Error: 153.9796378196721\n",
      "Root Mean Squared Error: 12.408853203244533\n"
     ]
    }
   ],
   "source": [
    "# Model evaluation\n",
    "\n",
    "from sklearn import metrics\n",
    "\n",
    "print('Mean Absolute Error:', metrics.mean_absolute_error(y_test, y_pred))\n",
    "print('Mean Squared Error:', metrics.mean_squared_error(y_test, y_pred))\n",
    "print('Root Mean Squared Error:', np.sqrt(metrics.mean_squared_error(y_test, y_pred)))"
   ]
  },
  {
   "cell_type": "code",
   "execution_count": 131,
   "metadata": {},
   "outputs": [
    {
     "name": "stdout",
     "output_type": "stream",
     "text": [
      "Feature: 0, Score: 0.22008\n",
      "Feature: 1, Score: 0.23033\n",
      "Feature: 2, Score: 0.07785\n",
      "Feature: 3, Score: 0.07271\n",
      "Feature: 4, Score: 0.31706\n",
      "Feature: 5, Score: 0.08198\n"
     ]
    },
    {
     "data": {
      "image/png": "[encoded data removed]",
      "text/plain": [
       "<Figure size 432x288 with 1 Axes>"
      ]
     },
     "metadata": {
      "needs_background": "light"
     },
     "output_type": "display_data"
    }
   ],
   "source": [
    "# Variable/feature importance\n",
    "\n",
    "importance = model_rf.feature_importances_\n",
    "# summarize feature importance\n",
    "feature_name = data_all.columns[5:]\n",
    "for i,v in enumerate(importance):\n",
    "    print('Feature: %0d, Score: %.5f' % (i,v))\n",
    "# plot feature importance\n",
    "plt.bar(feature_name, importance)\n",
    "plt.xticks(rotation='vertical')\n",
    "plt.show()"
   ]
  },
  {
   "cell_type": "code",
   "execution_count": null,
   "metadata": {},
   "outputs": [],
   "source": []
  },
  {
   "cell_type": "code",
   "execution_count": null,
   "metadata": {},
   "outputs": [],
   "source": []
  }
 ],
 "metadata": {
  "kernelspec": {
   "display_name": "Python 3",
   "language": "python",
   "name": "python3"
  },
  "language_info": {
   "codemirror_mode": {
    "name": "ipython",
    "version": 3
   },
   "file_extension": ".py",
   "mimetype": "text/x-python",
   "name": "python",
   "nbconvert_exporter": "python",
   "pygments_lexer": "ipython3",
   "version": "3.7.3"
  }
 },
 "nbformat": 4,
 "nbformat_minor": 2
}
